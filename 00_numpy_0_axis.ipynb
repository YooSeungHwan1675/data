{
 "cells": [
  {
   "cell_type": "code",
   "execution_count": 1,
   "id": "ed2890e6",
   "metadata": {},
   "outputs": [],
   "source": [
    "import warnings\n",
    "warnings.filterwarnings(action='ignore')\n",
    "%config Completer.use_jedi = False\n",
    "import numpy as np"
   ]
  },
  {
   "cell_type": "code",
   "execution_count": 7,
   "id": "1a40d3fc",
   "metadata": {},
   "outputs": [
    {
     "name": "stdout",
     "output_type": "stream",
     "text": [
      "[ 0  1  2  3  4  5  6  7  8  9 10 11 12 13 14 15 16 17 18 19 20 21 22 23\n",
      " 24 25 26 27 28 29 30 31]\n",
      "32\n",
      "<class 'type'>\n",
      "(32,)\n"
     ]
    }
   ],
   "source": [
    "arr = np.arange(32)\n",
    "print(arr)\n",
    "print(len(arr))\n",
    "print(type(type))\n",
    "print(arr.shape)"
   ]
  },
  {
   "cell_type": "code",
   "execution_count": 10,
   "id": "7e99b659",
   "metadata": {},
   "outputs": [
    {
     "name": "stdout",
     "output_type": "stream",
     "text": [
      "[[[ 0  1  2  3]\n",
      "  [ 4  5  6  7]]\n",
      "\n",
      " [[ 8  9 10 11]\n",
      "  [12 13 14 15]]\n",
      "\n",
      " [[16 17 18 19]\n",
      "  [20 21 22 23]]\n",
      "\n",
      " [[24 25 26 27]\n",
      "  [28 29 30 31]]]\n",
      "(4, 2, 4)\n"
     ]
    }
   ],
   "source": [
    "# reshape() 메소드 numpy 배열의 차원을 변경한다 => 전체 데이터 개수가 같아야 한다 .\n",
    "v = arr.reshape(4,2,4)\n",
    "print(v)\n",
    "print(v.shape)"
   ]
  },
  {
   "cell_type": "markdown",
   "id": "d743e0c9",
   "metadata": {},
   "source": [
    "<img src=\"./images/shape1.png\" align=\"left\" width=\"600\"/>        "
   ]
  },
  {
   "cell_type": "markdown",
   "id": "bf20735e",
   "metadata": {},
   "source": [
    "<img src=\"./images/shape2.png\" align=\"left\" width=\"600\"/>        "
   ]
  },
  {
   "cell_type": "markdown",
   "id": "63c7a2c5",
   "metadata": {},
   "source": [
    "numpy의 sum이라는 메소드 작동방식"
   ]
  },
  {
   "cell_type": "code",
   "execution_count": 14,
   "id": "e63d9091",
   "metadata": {},
   "outputs": [
    {
     "name": "stdout",
     "output_type": "stream",
     "text": [
      "3\n"
     ]
    }
   ],
   "source": [
    "# sum() 메소드의 axis 속성의 기본값은 None이고 axis는 대상 차원보다 작은 값을 설정한다.\n",
    "# 위의 예에서는 데이터의 차원이 3이기 때문에 axis 속성은 2까지 지정할 수 있다.\n",
    "print(v.ndim)"
   ]
  },
  {
   "cell_type": "code",
   "execution_count": 21,
   "id": "648c8f27",
   "metadata": {},
   "outputs": [
    {
     "name": "stdout",
     "output_type": "stream",
     "text": [
      "(4, 2, 4)\n",
      "496\n",
      "496\n"
     ]
    }
   ],
   "source": [
    "# axis=None\n",
    "# axis를 기본값으로 실행하면 대상 데이터의 모든 요소의 합계를 리턴한다. => 면, 행, 열을 구분하지 않는다.\n",
    "# 대상 데이터에 포함된 모든 요소 를 단순히 합산하는 연산이 실행된다.\n",
    "print(v.shape)\n",
    "print(v.sum())\n",
    "print(v.sum(axis=None))"
   ]
  },
  {
   "cell_type": "code",
   "execution_count": 20,
   "id": "a55cbdb5",
   "metadata": {},
   "outputs": [
    {
     "name": "stdout",
     "output_type": "stream",
     "text": [
      "496\n"
     ]
    }
   ],
   "source": [
    "total = 0\n",
    "\n",
    "for i in range(32):\n",
    "    total += i\n",
    "print(total)"
   ]
  },
  {
   "cell_type": "code",
   "execution_count": 25,
   "id": "19f5aee8",
   "metadata": {},
   "outputs": [
    {
     "name": "stdout",
     "output_type": "stream",
     "text": [
      "(2, 4)\n",
      "2\n",
      "[[48 52 56 60]\n",
      " [64 68 72 76]]\n"
     ]
    }
   ],
   "source": [
    "# axis=0\n",
    "# axis=0은 x축을 기준으로 계산한 합계를 리턴한다.\n",
    "# shape이 (4,2,4)인 데이터를 x축을 기준으로 계산하면 면이 제거되고 shape은 (2,4)가리턴된다.\n",
    "res = v.sum(axis=0)\n",
    "print(res.shape)\n",
    "print(res.ndim)\n",
    "print(res)"
   ]
  },
  {
   "cell_type": "markdown",
   "id": "49d3629f",
   "metadata": {},
   "source": [
    "<img src=\"./images/shape3.png\" align=\"left\" width=\"800\"/>        "
   ]
  },
  {
   "cell_type": "markdown",
   "id": "38e2e4ba",
   "metadata": {},
   "source": [
    "<img src=\"./images/shape4.png\" align=\"left\" width=\"700\"/>        "
   ]
  },
  {
   "cell_type": "code",
   "execution_count": 28,
   "id": "a8e6b1f9",
   "metadata": {},
   "outputs": [
    {
     "name": "stdout",
     "output_type": "stream",
     "text": [
      "(4, 4)\n",
      "2\n",
      "[[ 4  6  8 10]\n",
      " [20 22 24 26]\n",
      " [36 38 40 42]\n",
      " [52 54 56 58]]\n"
     ]
    }
   ],
   "source": [
    "# axis = 1\n",
    "# axis = 1 은 y축\n",
    "# shape이 (4,2,4)인 데이터를 y축 을 기준으로 계산하면 행이 제거 되고 shape은 (4,4)가 리턴된다.\n",
    "res = v.sum(axis=1)\n",
    "print(res.shape)\n",
    "print(res.ndim)\n",
    "print(res)"
   ]
  },
  {
   "cell_type": "markdown",
   "id": "e8e3f2ab",
   "metadata": {},
   "source": [
    "<img src=\"./images/shape5.png\" align=\"left\" width=\"700\"/>        "
   ]
  },
  {
   "cell_type": "markdown",
   "id": "a34572cc",
   "metadata": {},
   "source": [
    "<img src=\"./images/shape6.png\" align=\"left\" width=\"700\"/>        "
   ]
  },
  {
   "cell_type": "code",
   "execution_count": 29,
   "id": "b5470b8d",
   "metadata": {},
   "outputs": [
    {
     "name": "stdout",
     "output_type": "stream",
     "text": [
      "(4, 2)\n",
      "2\n",
      "[[  6  22]\n",
      " [ 38  54]\n",
      " [ 70  86]\n",
      " [102 118]]\n"
     ]
    }
   ],
   "source": [
    "# axis =2 \n",
    "# axis =2 은 z 축을 기준으로 계산한 합계를 리턴한다 \n",
    "# shape이 (4,2,4)  인 데이터를 z 축을 기준으로 계산하면 열이 제거되고 shape은 (4,2)가 리턴된다.\n",
    "res = v.sum(axis=2)\n",
    "print(res.shape)\n",
    "print(res.ndim)\n",
    "print(res)"
   ]
  },
  {
   "cell_type": "markdown",
   "id": "f1b99f94",
   "metadata": {},
   "source": [
    "<img src=\"./images/shape7.png\" align=\"left\" width=\"700\"/>        "
   ]
  },
  {
   "cell_type": "markdown",
   "id": "24daf1ec",
   "metadata": {},
   "source": [
    "<img src=\"./images/shape8.png\" align=\"left\" width=\"700\"/>        "
   ]
  }
 ],
 "metadata": {
  "kernelspec": {
   "display_name": "Python 3",
   "language": "python",
   "name": "python3"
  },
  "language_info": {
   "codemirror_mode": {
    "name": "ipython",
    "version": 3
   },
   "file_extension": ".py",
   "mimetype": "text/x-python",
   "name": "python",
   "nbconvert_exporter": "python",
   "pygments_lexer": "ipython3",
   "version": "3.6.8"
  }
 },
 "nbformat": 4,
 "nbformat_minor": 5
}
