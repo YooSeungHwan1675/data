{
 "cells": [
  {
   "cell_type": "code",
   "execution_count": 1,
   "id": "1c2983e1",
   "metadata": {},
   "outputs": [],
   "source": [
    "import warnings\n",
    "warnings.filterwarnings(action='ignore')\n",
    "%config Completer.use_jedi = False\n",
    "import numpy as np\n",
    "\n",
    "def pprint(arr):\n",
    "    print('type: {}'.format(type(arr)))\n",
    "    print('shape: {}, dimension: {}, dtype: {}'.format(arr.shape, arr.ndim, arr.dtype))\n",
    "    print('numpy 배열의 데이터\\n', arr, sep='')"
   ]
  },
  {
   "cell_type": "markdown",
   "id": "c1a5acd5",
   "metadata": {},
   "source": [
    "인덱싱  \n",
    "   \n",
    "배열의 각 요소는 axis 인덱스 배열로 참조할 수 있다.  \n",
    "1차원 배열은 1개의 인덱스, 2차원 배열은 2개의 인덱스, 3차원 배열은 3개의 인덱스로 요소를 참조할 수 있다.  \n",
    "인덱싱 작업시[행][열]과 같이 인덱스를 지정하거나 [행,열] 과 같이 인덱스를 지정할 수 있다."
   ]
  },
  {
   "cell_type": "code",
   "execution_count": 2,
   "id": "08a81d7e",
   "metadata": {},
   "outputs": [
    {
     "name": "stdout",
     "output_type": "stream",
     "text": [
      "type: <class 'numpy.ndarray'>\n",
      "shape: (24,), dimension: 1, dtype: int32\n",
      "numpy 배열의 데이터\n",
      "[ 0  1  2  3  4  5  6  7  8  9 10 11 12 13 14 15 16 17 18 19 20 21 22 23]\n",
      "type: <class 'numpy.ndarray'>\n",
      "shape: (4, 6), dimension: 2, dtype: int32\n",
      "numpy 배열의 데이터\n",
      "[[ 0  1  2  3  4  5]\n",
      " [ 6  7  8  9 10 11]\n",
      " [12 13 14 15 16 17]\n",
      " [18 19 20 21 22 23]]\n",
      "type: <class 'numpy.ndarray'>\n",
      "shape: (2, 4, 3), dimension: 3, dtype: int32\n",
      "numpy 배열의 데이터\n",
      "[[[ 0  1  2]\n",
      "  [ 3  4  5]\n",
      "  [ 6  7  8]\n",
      "  [ 9 10 11]]\n",
      "\n",
      " [[12 13 14]\n",
      "  [15 16 17]\n",
      "  [18 19 20]\n",
      "  [21 22 23]]]\n"
     ]
    }
   ],
   "source": [
    "a = np.arange(24) # 1 차원 배열\n",
    "pprint(a)\n",
    "b = np.arange(24).reshape(4,6) # 2차원 배열\n",
    "pprint(b)\n",
    "c = np.arange(24).reshape(2,4,3) # 3차원 배열\n",
    "pprint(c)"
   ]
  },
  {
   "cell_type": "code",
   "execution_count": 3,
   "id": "dd52bbde",
   "metadata": {},
   "outputs": [
    {
     "name": "stdout",
     "output_type": "stream",
     "text": [
      "5\n",
      "type: <class 'numpy.ndarray'>\n",
      "shape: (24,), dimension: 1, dtype: int32\n",
      "numpy 배열의 데이터\n",
      "[     0      1      2      3      4 100000      6      7      8      9\n",
      "     10     11     12     13     14     15     16     17     18     19\n",
      "     20     21     22     23]\n"
     ]
    }
   ],
   "source": [
    "# 1차원 배열 요소 참조 및 변경\n",
    "print(a[5])\n",
    "a[5] = 100000\n",
    "pprint(a)"
   ]
  },
  {
   "cell_type": "code",
   "execution_count": 4,
   "id": "09864c20",
   "metadata": {},
   "outputs": [
    {
     "name": "stdout",
     "output_type": "stream",
     "text": [
      "1\n",
      "type: <class 'numpy.ndarray'>\n",
      "shape: (4, 6), dimension: 2, dtype: int32\n",
      "numpy 배열의 데이터\n",
      "[[      0 1000000       2       3       4       5]\n",
      " [      6       7       8       9      10      11]\n",
      " [     12      13      14      15      16      17]\n",
      " [     18      19      20      21      22      23]]\n",
      "9\n",
      "type: <class 'numpy.ndarray'>\n",
      "shape: (4, 6), dimension: 2, dtype: int32\n",
      "numpy 배열의 데이터\n",
      "[[       0  1000000        2        3        4        5]\n",
      " [       6        7        8 20000000       10       11]\n",
      " [      12       13       14       15       16       17]\n",
      " [      18       19       20       21       22       23]]\n"
     ]
    }
   ],
   "source": [
    "# 2차원 배열 요소 참조 및 변경\n",
    "print(b[0][1])\n",
    "b[0][1] = 1000000\n",
    "pprint(b)\n",
    "print(b[1,3])\n",
    "b[1,3] = 20000000\n",
    "pprint(b)"
   ]
  },
  {
   "cell_type": "code",
   "execution_count": 5,
   "id": "72c76f90",
   "metadata": {},
   "outputs": [
    {
     "name": "stdout",
     "output_type": "stream",
     "text": [
      "13\n",
      "type: <class 'numpy.ndarray'>\n",
      "shape: (2, 4, 3), dimension: 3, dtype: int32\n",
      "numpy 배열의 데이터\n",
      "[[[     0      1      2]\n",
      "  [     3      4      5]\n",
      "  [     6      7      8]\n",
      "  [     9     10     11]]\n",
      "\n",
      " [[    12 999999     14]\n",
      "  [    15     16     17]\n",
      "  [    18     19     20]\n",
      "  [    21     22     23]]]\n",
      "7\n",
      "type: <class 'numpy.ndarray'>\n",
      "shape: (2, 4, 3), dimension: 3, dtype: int32\n",
      "numpy 배열의 데이터\n",
      "[[[     0      1      2]\n",
      "  [     3      4      5]\n",
      "  [     6 777777      8]\n",
      "  [     9     10     11]]\n",
      "\n",
      " [[    12 999999     14]\n",
      "  [    15     16     17]\n",
      "  [    18     19     20]\n",
      "  [    21     22     23]]]\n"
     ]
    }
   ],
   "source": [
    "# 3차원 배열 요소 참조 및 변경\n",
    "print(c[1][0][1])\n",
    "c[1][0][1] = 999999\n",
    "pprint(c)\n",
    "print(c[0,2,1])\n",
    "c[0,2,1] = 777777\n",
    "pprint(c)"
   ]
  },
  {
   "cell_type": "markdown",
   "id": "5019cfa0",
   "metadata": {},
   "source": [
    "슬라이싱"
   ]
  },
  {
   "cell_type": "code",
   "execution_count": 6,
   "id": "6b64a5d6",
   "metadata": {},
   "outputs": [
    {
     "name": "stdout",
     "output_type": "stream",
     "text": [
      "[     0      1      2      3      4 100000      6      7      8      9\n",
      "     10     11     12     13     14     15     16     17     18     19\n",
      "     20     21     22     23]\n",
      "[     2      3      4 100000]\n"
     ]
    }
   ],
   "source": [
    "print(a)\n",
    "print(a[2:6])"
   ]
  },
  {
   "cell_type": "markdown",
   "id": "d2750864",
   "metadata": {},
   "source": [
    "<img src=\"./images/numpyImage06.jpg\" align=\"left\" width=\"900\">"
   ]
  },
  {
   "cell_type": "code",
   "execution_count": 7,
   "id": "2a7f9d0c",
   "metadata": {
    "scrolled": false
   },
   "outputs": [
    {
     "name": "stdout",
     "output_type": "stream",
     "text": [
      "type: <class 'numpy.ndarray'>\n",
      "shape: (4, 6), dimension: 2, dtype: int32\n",
      "numpy 배열의 데이터\n",
      "[[       0  1000000        2        3        4        5]\n",
      " [       6        7        8 20000000       10       11]\n",
      " [      12       13       14       15       16       17]\n",
      " [      18       19       20       21       22       23]]\n",
      "================================================================================\n",
      "[[       6        7        8 20000000       10       11]\n",
      " [      12       13       14       15       16       17]]\n",
      "================================================================================\n",
      "[[ 1000000        2        3        4]\n",
      " [       7        8 20000000       10]\n",
      " [      13       14       15       16]\n",
      " [      19       20       21       22]]\n",
      "================================================================================\n",
      "[[12 13 14 15 16 17]]\n"
     ]
    }
   ],
   "source": [
    "pprint(b)\n",
    "print('=' * 80)\n",
    "print(b[1:3])# 열을 생략하면 행 단위의 슬라이싱을 할수 있다.\n",
    "#print(b[1:3,:])\n",
    "print('='*80)\n",
    "print(b[:,1:5])# 열 단위로 슬라이싱 ㅎ려면 행 위치에 반드시 ':'을 적어야 한다. ':'는 전체 행을 의미한다.\n",
    "print('='*80)\n",
    "print(b[1:3][1:5]) # b[1:3]로 슬라이싱한 결과에서 [1:5]로 슬라이싱한다."
   ]
  },
  {
   "cell_type": "markdown",
   "id": "2447edf7",
   "metadata": {},
   "source": [
    "<img src=\"./images/numpyImage07.jpg\" align=\"left\" width=\"900\">"
   ]
  },
  {
   "cell_type": "code",
   "execution_count": 8,
   "id": "5d7fc5cd",
   "metadata": {},
   "outputs": [
    {
     "name": "stdout",
     "output_type": "stream",
     "text": [
      "[[       7        8 20000000       10]\n",
      " [      13       14       15       16]]\n",
      "[[       7        8 20000000       10]\n",
      " [      13       14       15       16]]\n"
     ]
    }
   ],
   "source": [
    "# 음수 인덱싱을 이용한 범위 설정\n",
    "# 음수 인덱스는 지정한 axis 의 마지막 요소부터 반대 방향 인덱스 이고 -1은 마지막 요소의 인덱스르르 의미한다.\n",
    "print(b[1:3,1:5])\n",
    "print(b[1:-1,1:-1])"
   ]
  },
  {
   "cell_type": "code",
   "execution_count": 9,
   "id": "62c7690f",
   "metadata": {},
   "outputs": [
    {
     "name": "stdout",
     "output_type": "stream",
     "text": [
      "type: <class 'numpy.ndarray'>\n",
      "shape: (4, 6), dimension: 2, dtype: int32\n",
      "numpy 배열의 데이터\n",
      "[[       0  1000000        2        3        4        5]\n",
      " [       6        7        8 20000000       10       11]\n",
      " [      12       13       14       15       16       17]\n",
      " [      18       19       20       21       22       23]]\n",
      "================================================================================\n",
      "[[       7        8 20000000       10]\n",
      " [      13       14       15       16]]\n",
      "================================================================================\n",
      "[[       8 20000000]\n",
      " [      14       15]]\n",
      "[[     7 999999 999999     10]\n",
      " [    13 999999 999999     16]]\n",
      "[[      0 1000000       2       3       4       5]\n",
      " [      6       7  999999  999999      10      11]\n",
      " [     12      13  999999  999999      16      17]\n",
      " [     18      19      20      21      22      23]]\n"
     ]
    }
   ],
   "source": [
    "# 슬라이싱을 이용한 데이터 수정\n",
    "pprint(b)\n",
    "print('=' * 80)\n",
    "# 슬라이싱을 이용한 배열 생성\n",
    "slide_arr = b[1:3,1:5]\n",
    "print(slide_arr)\n",
    "print('=' *80)\n",
    "print(slide_arr[:,1:3])\n",
    "slide_arr[:,1:3] = 999999\n",
    "print(slide_arr)\n",
    "print(b)"
   ]
  },
  {
   "cell_type": "markdown",
   "id": "7f51821b",
   "metadata": {},
   "source": [
    "불린 인덱싱  \n",
    "  \n",
    "numpy의 불린 인덱싱인 배열의 각 요소 선택 여부를 True, False로 지정하는 방식이다. => True가 선택된다.\n"
   ]
  },
  {
   "cell_type": "code",
   "execution_count": 10,
   "id": "65631443",
   "metadata": {
    "scrolled": true
   },
   "outputs": [
    {
     "name": "stdout",
     "output_type": "stream",
     "text": [
      "type: <class 'numpy.ndarray'>\n",
      "shape: (4, 6), dimension: 2, dtype: int32\n",
      "numpy 배열의 데이터\n",
      "[[ 0  1  2  3  4  5]\n",
      " [ 6  7  8  9 10 11]\n",
      " [12 13 14 15 16 17]\n",
      " [18 19 20 21 22 23]]\n"
     ]
    }
   ],
   "source": [
    "a = np.arange(24).reshape(4,6)\n",
    "pprint(a)"
   ]
  },
  {
   "cell_type": "markdown",
   "id": "e2506547",
   "metadata": {},
   "source": [
    "a 배열에서 요소의 값이 짝수인 요소의 전체 합계"
   ]
  },
  {
   "cell_type": "code",
   "execution_count": 11,
   "id": "e9eb3bc4",
   "metadata": {},
   "outputs": [
    {
     "name": "stdout",
     "output_type": "stream",
     "text": [
      "[[0 1 0 1 0 1]\n",
      " [0 1 0 1 0 1]\n",
      " [0 1 0 1 0 1]\n",
      " [0 1 0 1 0 1]]\n",
      "================================================================================\n",
      "[[ True False  True False  True False]\n",
      " [ True False  True False  True False]\n",
      " [ True False  True False  True False]\n",
      " [ True False  True False  True False]]\n"
     ]
    }
   ],
   "source": [
    "# a 배열에서 요소의 값이 짝수인 요소의 전체 합계 \n",
    "# numpy의 브로드 캐스팅 기능을 이용해서 배열의 요소 중에서 짝수인 요소를 확인한다.\n",
    "even_arr = a % 2 # 브로드 캐스팅 \n",
    "print(even_arr)\n",
    "print('='*80)\n",
    "even_arr2 = a % 2 == 0\n",
    "print(even_arr2)"
   ]
  },
  {
   "cell_type": "code",
   "execution_count": 12,
   "id": "cd8957c1",
   "metadata": {},
   "outputs": [
    {
     "name": "stdout",
     "output_type": "stream",
     "text": [
      "[ 0  2  4  6  8 10 12 14 16 18 20 22]\n",
      "[ 0  2  4  6  8 10 12 14 16 18 20 22]\n"
     ]
    }
   ],
   "source": [
    "# 불린 인덱싱은 브로드캐스팅 결과가 True인 요소들만 추출한다\n",
    "print(a[even_arr2])\n",
    "print(a[a % 2 ==0])"
   ]
  },
  {
   "cell_type": "code",
   "execution_count": 13,
   "id": "2aa2507a",
   "metadata": {},
   "outputs": [
    {
     "name": "stdout",
     "output_type": "stream",
     "text": [
      "276\n",
      "132\n",
      "132\n",
      "144\n",
      "144\n"
     ]
    }
   ],
   "source": [
    "print(np.sum(a))\n",
    "print(a[a % 2 == 0 ].sum())\n",
    "print(np.sum(a[a %2 == 0]))\n",
    "print(np.sum(a[a %2 == 1]))\n",
    "print(np.sum(a[a %2 != 0]).sum())"
   ]
  },
  {
   "cell_type": "code",
   "execution_count": 64,
   "id": "88675599",
   "metadata": {},
   "outputs": [
    {
     "name": "stdout",
     "output_type": "stream",
     "text": [
      "300\n",
      "156\n",
      "156\n",
      "144\n"
     ]
    }
   ],
   "source": [
    "print(np.sum(a))\n",
    "print(a[a % 2 == 0].sum())\n",
    "print(np.sum(a[a % 2 == 0]))\n",
    "print(a[a % 2 == 1].sum())\n",
    "print(np.sum(a[a % 2 !== 0]))"
   ]
  },
  {
   "cell_type": "markdown",
   "id": "e0821de5",
   "metadata": {},
   "source": [
    "불린 인덱싱 응용  \n",
    "  \n",
    "데이터 파일 => 2014년 시애틀 강수량 데이터 => ./data/Seattle2014.csv  \n",
    "2014년 1월 시애틀 평균 강수량"
   ]
  },
  {
   "cell_type": "code",
   "execution_count": 15,
   "id": "83d3901d",
   "metadata": {},
   "outputs": [],
   "source": [
    "import pandas as pd"
   ]
  },
  {
   "cell_type": "code",
   "execution_count": 16,
   "id": "eb1bc23e",
   "metadata": {},
   "outputs": [
    {
     "name": "stdout",
     "output_type": "stream",
     "text": [
      "<class 'pandas.core.frame.DataFrame'>\n"
     ]
    },
    {
     "data": {
      "text/html": [
       "<div>\n",
       "<style scoped>\n",
       "    .dataframe tbody tr th:only-of-type {\n",
       "        vertical-align: middle;\n",
       "    }\n",
       "\n",
       "    .dataframe tbody tr th {\n",
       "        vertical-align: top;\n",
       "    }\n",
       "\n",
       "    .dataframe thead th {\n",
       "        text-align: right;\n",
       "    }\n",
       "</style>\n",
       "<table border=\"1\" class=\"dataframe\">\n",
       "  <thead>\n",
       "    <tr style=\"text-align: right;\">\n",
       "      <th></th>\n",
       "      <th>STATION</th>\n",
       "      <th>STATION_NAME</th>\n",
       "      <th>DATE</th>\n",
       "      <th>PRCP</th>\n",
       "      <th>SNWD</th>\n",
       "      <th>SNOW</th>\n",
       "      <th>TMAX</th>\n",
       "      <th>TMIN</th>\n",
       "      <th>AWND</th>\n",
       "      <th>WDF2</th>\n",
       "      <th>WDF5</th>\n",
       "      <th>WSF2</th>\n",
       "      <th>WSF5</th>\n",
       "      <th>WT01</th>\n",
       "      <th>WT05</th>\n",
       "      <th>WT02</th>\n",
       "      <th>WT03</th>\n",
       "    </tr>\n",
       "  </thead>\n",
       "  <tbody>\n",
       "    <tr>\n",
       "      <th>0</th>\n",
       "      <td>GHCND:USW00024233</td>\n",
       "      <td>SEATTLE TACOMA INTERNATIONAL AIRPORT WA US</td>\n",
       "      <td>20140101</td>\n",
       "      <td>0</td>\n",
       "      <td>0</td>\n",
       "      <td>0</td>\n",
       "      <td>72</td>\n",
       "      <td>33</td>\n",
       "      <td>12</td>\n",
       "      <td>340</td>\n",
       "      <td>310</td>\n",
       "      <td>36</td>\n",
       "      <td>40</td>\n",
       "      <td>-9999</td>\n",
       "      <td>-9999</td>\n",
       "      <td>-9999</td>\n",
       "      <td>-9999</td>\n",
       "    </tr>\n",
       "    <tr>\n",
       "      <th>1</th>\n",
       "      <td>GHCND:USW00024233</td>\n",
       "      <td>SEATTLE TACOMA INTERNATIONAL AIRPORT WA US</td>\n",
       "      <td>20140102</td>\n",
       "      <td>41</td>\n",
       "      <td>0</td>\n",
       "      <td>0</td>\n",
       "      <td>106</td>\n",
       "      <td>61</td>\n",
       "      <td>32</td>\n",
       "      <td>190</td>\n",
       "      <td>200</td>\n",
       "      <td>94</td>\n",
       "      <td>116</td>\n",
       "      <td>-9999</td>\n",
       "      <td>-9999</td>\n",
       "      <td>-9999</td>\n",
       "      <td>-9999</td>\n",
       "    </tr>\n",
       "    <tr>\n",
       "      <th>2</th>\n",
       "      <td>GHCND:USW00024233</td>\n",
       "      <td>SEATTLE TACOMA INTERNATIONAL AIRPORT WA US</td>\n",
       "      <td>20140103</td>\n",
       "      <td>15</td>\n",
       "      <td>0</td>\n",
       "      <td>0</td>\n",
       "      <td>89</td>\n",
       "      <td>28</td>\n",
       "      <td>26</td>\n",
       "      <td>30</td>\n",
       "      <td>50</td>\n",
       "      <td>63</td>\n",
       "      <td>72</td>\n",
       "      <td>1</td>\n",
       "      <td>-9999</td>\n",
       "      <td>-9999</td>\n",
       "      <td>-9999</td>\n",
       "    </tr>\n",
       "    <tr>\n",
       "      <th>3</th>\n",
       "      <td>GHCND:USW00024233</td>\n",
       "      <td>SEATTLE TACOMA INTERNATIONAL AIRPORT WA US</td>\n",
       "      <td>20140104</td>\n",
       "      <td>0</td>\n",
       "      <td>0</td>\n",
       "      <td>0</td>\n",
       "      <td>78</td>\n",
       "      <td>6</td>\n",
       "      <td>27</td>\n",
       "      <td>40</td>\n",
       "      <td>40</td>\n",
       "      <td>45</td>\n",
       "      <td>58</td>\n",
       "      <td>1</td>\n",
       "      <td>-9999</td>\n",
       "      <td>-9999</td>\n",
       "      <td>-9999</td>\n",
       "    </tr>\n",
       "    <tr>\n",
       "      <th>4</th>\n",
       "      <td>GHCND:USW00024233</td>\n",
       "      <td>SEATTLE TACOMA INTERNATIONAL AIRPORT WA US</td>\n",
       "      <td>20140105</td>\n",
       "      <td>0</td>\n",
       "      <td>0</td>\n",
       "      <td>0</td>\n",
       "      <td>83</td>\n",
       "      <td>-5</td>\n",
       "      <td>37</td>\n",
       "      <td>10</td>\n",
       "      <td>10</td>\n",
       "      <td>67</td>\n",
       "      <td>76</td>\n",
       "      <td>-9999</td>\n",
       "      <td>-9999</td>\n",
       "      <td>-9999</td>\n",
       "      <td>-9999</td>\n",
       "    </tr>\n",
       "    <tr>\n",
       "      <th>...</th>\n",
       "      <td>...</td>\n",
       "      <td>...</td>\n",
       "      <td>...</td>\n",
       "      <td>...</td>\n",
       "      <td>...</td>\n",
       "      <td>...</td>\n",
       "      <td>...</td>\n",
       "      <td>...</td>\n",
       "      <td>...</td>\n",
       "      <td>...</td>\n",
       "      <td>...</td>\n",
       "      <td>...</td>\n",
       "      <td>...</td>\n",
       "      <td>...</td>\n",
       "      <td>...</td>\n",
       "      <td>...</td>\n",
       "      <td>...</td>\n",
       "    </tr>\n",
       "    <tr>\n",
       "      <th>360</th>\n",
       "      <td>GHCND:USW00024233</td>\n",
       "      <td>SEATTLE TACOMA INTERNATIONAL AIRPORT WA US</td>\n",
       "      <td>20141227</td>\n",
       "      <td>33</td>\n",
       "      <td>0</td>\n",
       "      <td>0</td>\n",
       "      <td>94</td>\n",
       "      <td>44</td>\n",
       "      <td>49</td>\n",
       "      <td>210</td>\n",
       "      <td>210</td>\n",
       "      <td>112</td>\n",
       "      <td>161</td>\n",
       "      <td>1</td>\n",
       "      <td>-9999</td>\n",
       "      <td>-9999</td>\n",
       "      <td>-9999</td>\n",
       "    </tr>\n",
       "    <tr>\n",
       "      <th>361</th>\n",
       "      <td>GHCND:USW00024233</td>\n",
       "      <td>SEATTLE TACOMA INTERNATIONAL AIRPORT WA US</td>\n",
       "      <td>20141228</td>\n",
       "      <td>41</td>\n",
       "      <td>0</td>\n",
       "      <td>0</td>\n",
       "      <td>67</td>\n",
       "      <td>28</td>\n",
       "      <td>18</td>\n",
       "      <td>50</td>\n",
       "      <td>30</td>\n",
       "      <td>58</td>\n",
       "      <td>72</td>\n",
       "      <td>1</td>\n",
       "      <td>-9999</td>\n",
       "      <td>-9999</td>\n",
       "      <td>-9999</td>\n",
       "    </tr>\n",
       "    <tr>\n",
       "      <th>362</th>\n",
       "      <td>GHCND:USW00024233</td>\n",
       "      <td>SEATTLE TACOMA INTERNATIONAL AIRPORT WA US</td>\n",
       "      <td>20141229</td>\n",
       "      <td>0</td>\n",
       "      <td>0</td>\n",
       "      <td>0</td>\n",
       "      <td>61</td>\n",
       "      <td>6</td>\n",
       "      <td>43</td>\n",
       "      <td>350</td>\n",
       "      <td>350</td>\n",
       "      <td>76</td>\n",
       "      <td>103</td>\n",
       "      <td>1</td>\n",
       "      <td>-9999</td>\n",
       "      <td>-9999</td>\n",
       "      <td>-9999</td>\n",
       "    </tr>\n",
       "    <tr>\n",
       "      <th>363</th>\n",
       "      <td>GHCND:USW00024233</td>\n",
       "      <td>SEATTLE TACOMA INTERNATIONAL AIRPORT WA US</td>\n",
       "      <td>20141230</td>\n",
       "      <td>0</td>\n",
       "      <td>0</td>\n",
       "      <td>0</td>\n",
       "      <td>33</td>\n",
       "      <td>-21</td>\n",
       "      <td>36</td>\n",
       "      <td>90</td>\n",
       "      <td>70</td>\n",
       "      <td>63</td>\n",
       "      <td>76</td>\n",
       "      <td>-9999</td>\n",
       "      <td>-9999</td>\n",
       "      <td>-9999</td>\n",
       "      <td>-9999</td>\n",
       "    </tr>\n",
       "    <tr>\n",
       "      <th>364</th>\n",
       "      <td>GHCND:USW00024233</td>\n",
       "      <td>SEATTLE TACOMA INTERNATIONAL AIRPORT WA US</td>\n",
       "      <td>20141231</td>\n",
       "      <td>0</td>\n",
       "      <td>0</td>\n",
       "      <td>0</td>\n",
       "      <td>33</td>\n",
       "      <td>-27</td>\n",
       "      <td>30</td>\n",
       "      <td>30</td>\n",
       "      <td>-9999</td>\n",
       "      <td>58</td>\n",
       "      <td>-9999</td>\n",
       "      <td>-9999</td>\n",
       "      <td>-9999</td>\n",
       "      <td>-9999</td>\n",
       "      <td>-9999</td>\n",
       "    </tr>\n",
       "  </tbody>\n",
       "</table>\n",
       "<p>365 rows × 17 columns</p>\n",
       "</div>"
      ],
      "text/plain": [
       "               STATION                                STATION_NAME      DATE  \\\n",
       "0    GHCND:USW00024233  SEATTLE TACOMA INTERNATIONAL AIRPORT WA US  20140101   \n",
       "1    GHCND:USW00024233  SEATTLE TACOMA INTERNATIONAL AIRPORT WA US  20140102   \n",
       "2    GHCND:USW00024233  SEATTLE TACOMA INTERNATIONAL AIRPORT WA US  20140103   \n",
       "3    GHCND:USW00024233  SEATTLE TACOMA INTERNATIONAL AIRPORT WA US  20140104   \n",
       "4    GHCND:USW00024233  SEATTLE TACOMA INTERNATIONAL AIRPORT WA US  20140105   \n",
       "..                 ...                                         ...       ...   \n",
       "360  GHCND:USW00024233  SEATTLE TACOMA INTERNATIONAL AIRPORT WA US  20141227   \n",
       "361  GHCND:USW00024233  SEATTLE TACOMA INTERNATIONAL AIRPORT WA US  20141228   \n",
       "362  GHCND:USW00024233  SEATTLE TACOMA INTERNATIONAL AIRPORT WA US  20141229   \n",
       "363  GHCND:USW00024233  SEATTLE TACOMA INTERNATIONAL AIRPORT WA US  20141230   \n",
       "364  GHCND:USW00024233  SEATTLE TACOMA INTERNATIONAL AIRPORT WA US  20141231   \n",
       "\n",
       "     PRCP  SNWD  SNOW  TMAX  TMIN  AWND  WDF2  WDF5  WSF2  WSF5  WT01  WT05  \\\n",
       "0       0     0     0    72    33    12   340   310    36    40 -9999 -9999   \n",
       "1      41     0     0   106    61    32   190   200    94   116 -9999 -9999   \n",
       "2      15     0     0    89    28    26    30    50    63    72     1 -9999   \n",
       "3       0     0     0    78     6    27    40    40    45    58     1 -9999   \n",
       "4       0     0     0    83    -5    37    10    10    67    76 -9999 -9999   \n",
       "..    ...   ...   ...   ...   ...   ...   ...   ...   ...   ...   ...   ...   \n",
       "360    33     0     0    94    44    49   210   210   112   161     1 -9999   \n",
       "361    41     0     0    67    28    18    50    30    58    72     1 -9999   \n",
       "362     0     0     0    61     6    43   350   350    76   103     1 -9999   \n",
       "363     0     0     0    33   -21    36    90    70    63    76 -9999 -9999   \n",
       "364     0     0     0    33   -27    30    30 -9999    58 -9999 -9999 -9999   \n",
       "\n",
       "     WT02  WT03  \n",
       "0   -9999 -9999  \n",
       "1   -9999 -9999  \n",
       "2   -9999 -9999  \n",
       "3   -9999 -9999  \n",
       "4   -9999 -9999  \n",
       "..    ...   ...  \n",
       "360 -9999 -9999  \n",
       "361 -9999 -9999  \n",
       "362 -9999 -9999  \n",
       "363 -9999 -9999  \n",
       "364 -9999 -9999  \n",
       "\n",
       "[365 rows x 17 columns]"
      ]
     },
     "execution_count": 16,
     "metadata": {},
     "output_type": "execute_result"
    }
   ],
   "source": [
    "# pandas의 read_csv() 메소드로 csv 파일을 읽어서 데이터 프레임으로 리턴한다.\n",
    "rain_in_seattle = pd.read_csv('./data/Seattle2014.csv')\n",
    "print(type(rain_in_seattle))\n",
    "rain_in_seattle"
   ]
  },
  {
   "cell_type": "code",
   "execution_count": 17,
   "id": "1078ebd6",
   "metadata": {},
   "outputs": [
    {
     "name": "stdout",
     "output_type": "stream",
     "text": [
      "<class 'pandas.core.series.Series'>\n",
      "0       0\n",
      "1      41\n",
      "2      15\n",
      "3       0\n",
      "4       0\n",
      "       ..\n",
      "360    33\n",
      "361    41\n",
      "362     0\n",
      "363     0\n",
      "364     0\n",
      "Name: PRCP, Length: 365, dtype: int64\n"
     ]
    }
   ],
   "source": [
    "# 2014년 시애틀 강수량 데이터의 강수량 열(PRCP)의 데이터만 추출한다 .\n",
    "# 데이터 프레임의 특정 열 1개(시리즈) 추출하기 \n",
    "#      => 데이터프레임이름['열이름'], 데이터 프레임 이름.get('열이름') , 데이터 프레임이름.열이름\n",
    "#rain_arr = rain_in_seattle['PRCP']\n",
    "#rain_arr = rain_in_seattle.get('PRCP')\n",
    "rain_arr = rain_in_seattle.PRCP\n",
    "print(type(rain_arr)) # <class 'pandas.core.series.Series'> => 데이터 프레임을 구성하는 열 1개\n",
    "print(rain_arr)"
   ]
  },
  {
   "cell_type": "code",
   "execution_count": 18,
   "id": "20c16d79",
   "metadata": {},
   "outputs": [
    {
     "name": "stdout",
     "output_type": "stream",
     "text": [
      "[  0  41  15   0   0   3 122  97  58  43 213  15   0   0   0   0   0   0\n",
      "   0   0   0   5   0   0   0   0   0  89 216   0  23  20   0   0   0   0\n",
      "   0   0  51   5 183 170  46  18  94 117 264 145 152  10  30  28  25  61\n",
      " 130   3   0   0   0   5 191 107 165 467  30   0 323  43 188   0   0   5\n",
      "  69  81 277   3   0   5   0   0   0   0   0  41  36   3 221 140   0   0\n",
      "   0   0  25   0  46   0   0  46   0   0   0   0   0   0   5 109 185   0\n",
      " 137   0  51 142  89 124   0  33  69   0   0   0   0   0 333 160  51   0\n",
      "   0 137  20   5   0   0   0   0   0   0   0   0   0   0   0   0  38   0\n",
      "  56   0   0   0   0   0   0   0   0   0   0   0   0   0   0   0   0   0\n",
      "  18  64   0   5  36  13   0   8   3   0   0   0   0   0   0  18  23   0\n",
      "   0   0   0   0   0   0   0   0   0   0   0   0   0   0   0   0   0   0\n",
      "   0   0   0   0   3 193   0   0   0   0   0   0   0   0   0   5   0   0\n",
      "   0   0   0   0   0   0   5 127 216   0  10   0   0   0   0   0   0   0\n",
      "   0   0   0   0   0   0   0  84  13   0  30   0   0   0   0   0   0   0\n",
      "   0   0   0   0   0   0   0   5   3   0   0   0   3 183 203  43  89   0\n",
      "   0   8   0   0   0   0   0   0   0   0   0   0   3  74   0  76  71  86\n",
      "   0  33 150   0 117  10 320  94  41  61  15   8 127   5 254 170   0  18\n",
      " 109  41  48  41   0   0  51   0   0   0   0   0   0   0   0   0   0  36\n",
      " 152   5 119  13 183   3  33 343  36   0   0   0   0   8  30  74   0  91\n",
      "  99 130  69   0   0   0   0   0  28 130  30 196   0   0 206  53   0   0\n",
      "  33  41   0   0   0]\n",
      "data size :  365\n"
     ]
    }
   ],
   "source": [
    "# 데이터만 얻어오기 위해서는 values 속성을 사용 \n",
    "#rain_arr = rain_in_seattle['PRCP'].values\n",
    "#rain_arr = rain_in_seattle.get('PRCP').values\n",
    "rain_arr = rain_in_seattle.PRCP.values\n",
    "print(rain_arr)\n",
    "print('data size : ',len(rain_arr))"
   ]
  },
  {
   "cell_type": "code",
   "execution_count": 19,
   "id": "fe4e1992",
   "metadata": {},
   "outputs": [
    {
     "name": "stdout",
     "output_type": "stream",
     "text": [
      "[ 0  1  2  3  4  5  6  7  8  9 10 11 12 13 14 15 16 17 18 19 20 21 22 23\n",
      " 24 25 26 27 28 29 30 31 32 33 34 35 36 37 38 39]\n",
      "[ True  True  True  True  True  True  True  True  True  True  True  True\n",
      "  True  True  True  True  True  True  True  True  True  True  True  True\n",
      "  True  True  True  True  True  True  True False False False False False\n",
      " False False False False]\n"
     ]
    }
   ],
   "source": [
    "days_arr = np.arange(365) # 날짜 배열 \n",
    "print(days_arr[:40])\n",
    "# 1월의 날 수 만큼 불린 인덱스를 생성한다. \n",
    "condition_jan = days_arr < 31\n",
    "print(condition_jan[:40])"
   ]
  },
  {
   "cell_type": "code",
   "execution_count": 20,
   "id": "6b5b5abf",
   "metadata": {},
   "outputs": [
    {
     "name": "stdout",
     "output_type": "stream",
     "text": [
      "[  0  41  15   0   0   3 122  97  58  43 213  15   0   0   0   0   0   0\n",
      "   0   0   0   5   0   0   0   0   0  89 216   0  23]\n",
      "31\n",
      "940\n"
     ]
    }
   ],
   "source": [
    "# 불린 인덱싱을 이용해서 1월의 강수량만 추출한다.\n",
    "rain_jan = rain_arr[condition_jan]\n",
    "print(rain_jan) # 1월 강수량\n",
    "print(len(rain_jan))\n",
    "print(rain_jan.sum())"
   ]
  },
  {
   "cell_type": "code",
   "execution_count": 21,
   "id": "6507aef6",
   "metadata": {},
   "outputs": [
    {
     "name": "stdout",
     "output_type": "stream",
     "text": [
      "1월 강수량 합계 940\n",
      "1월 강수량 평균 30.3\n"
     ]
    }
   ],
   "source": [
    "print('1월 강수량 합계 {}'.format(np.sum(rain_jan)))\n",
    "print('1월 강수량 평균 {:4.1f}'.format(np.mean(rain_jan)))"
   ]
  },
  {
   "cell_type": "markdown",
   "id": "0eaf404d",
   "metadata": {},
   "source": [
    "팬시 인덱싱  \n",
    "  \n",
    "배열에 인덱스 배열을 전달해 요소를 참조하는 방법이다."
   ]
  },
  {
   "cell_type": "code",
   "execution_count": 22,
   "id": "380f883f",
   "metadata": {},
   "outputs": [
    {
     "name": "stdout",
     "output_type": "stream",
     "text": [
      "[[ 1  2  3  4  5  6]\n",
      " [ 7  8  9 10 11 12]\n",
      " [13 14 15 16 17 18]\n",
      " [19 20 21 22 23 24]]\n"
     ]
    }
   ],
   "source": [
    "a = np.arange(1,25).reshape(4,6)\n",
    "print(a)"
   ]
  },
  {
   "cell_type": "code",
   "execution_count": 23,
   "id": "9817beb0",
   "metadata": {},
   "outputs": [
    {
     "name": "stdout",
     "output_type": "stream",
     "text": [
      "1 8 15 22\n",
      "<class 'tuple'>\n",
      "(1, 8, 15, 22)\n",
      "<class 'list'>\n",
      "[1, 8, 15, 22]\n",
      "================================================================================\n",
      "[ 1  8 15 22]\n"
     ]
    }
   ],
   "source": [
    "print(a[0,0],a[1,1],a[2,2],a[3,3])\n",
    "arr = a[0,0], a[1,1], a[2,2], a[3,3]\n",
    "print(type(arr))\n",
    "print(arr)\n",
    "arr = [a[0,0], a[1,1], a[2,2], a[3,3]]\n",
    "print(type(arr))\n",
    "print(arr)\n",
    "print('='*80)\n",
    "\n",
    "print(a[[0,1,2,3],(0,1,2,3)])"
   ]
  },
  {
   "cell_type": "markdown",
   "id": "ec3c24cb",
   "metadata": {},
   "source": [
    "배열 변환  \n",
    "  \n",
    "배열을 변환하는 방법은 전치 , 배열의 shape 변경, 배열 요소 추가 , 배열 결합, 배열 분리 등이 있다.  \n",
    "\n",
    "전치는 행렬의 인덱스가 바뀌는 변환이다."
   ]
  },
  {
   "cell_type": "markdown",
   "id": "2e641d34",
   "metadata": {},
   "source": [
    "<img src=\"./images/numpyImage08.jpg\" align=\"left\" width=\"300\">"
   ]
  },
  {
   "cell_type": "code",
   "execution_count": 24,
   "id": "4352458c",
   "metadata": {},
   "outputs": [
    {
     "name": "stdout",
     "output_type": "stream",
     "text": [
      "[[4 3]\n",
      " [1 7]\n",
      " [1 6]]\n",
      "[[4 1 1]\n",
      " [3 7 6]]\n"
     ]
    }
   ],
   "source": [
    "# numpy에서 행렬 전치하기 위해서 넘파이배열.T 속성을 사용한다 . \n",
    "a = np.random.randint(1,10,(3,2))\n",
    "print(a)\n",
    "print(a.T)"
   ]
  },
  {
   "cell_type": "markdown",
   "id": "a576d28e",
   "metadata": {},
   "source": [
    "배열의 shape 변경  \n",
    "\n",
    "numpy는 배열의 형태를 변경하는 reshape() 메소드와 ravel() 메소드를 제공한다 .  \n",
    "reshape() 메소드는 데이터 변경없이 지정한 shape으로 배열의 형태를 변환하지만 ravel() 메소드는 배열의 shape을 무조건 1차원으로 변환한다."
   ]
  },
  {
   "cell_type": "code",
   "execution_count": 25,
   "id": "a5664199",
   "metadata": {},
   "outputs": [
    {
     "name": "stdout",
     "output_type": "stream",
     "text": [
      "[[8 3 1 8 1 9]\n",
      " [7 5 1 8 8 8]]\n",
      "[[8 3]\n",
      " [1 8]\n",
      " [1 9]\n",
      " [7 5]\n",
      " [1 8]\n",
      " [8 8]]\n",
      "[[8 3 1 8 1 9]\n",
      " [7 5 1 8 8 8]]\n",
      "[[8 3]\n",
      " [1 8]\n",
      " [1 9]\n",
      " [7 5]\n",
      " [1 8]\n",
      " [8 8]]\n"
     ]
    }
   ],
   "source": [
    "a = np.random.randint(1,10,(2,6))\n",
    "print(a)\n",
    "print(np.resize(a,(6,2))) # shape이 변경된 결과를 리턴한다.\n",
    "print(a)\n",
    "b = np.resize(a,(6,2))\n",
    "print(b)"
   ]
  },
  {
   "cell_type": "code",
   "execution_count": 26,
   "id": "85356ad0",
   "metadata": {},
   "outputs": [
    {
     "name": "stdout",
     "output_type": "stream",
     "text": [
      "[[9 8 1 6 2 9]\n",
      " [7 5 4 8 7 1]]\n",
      "None\n"
     ]
    }
   ],
   "source": [
    "a = np.random.randint(1,10,(2,6))\n",
    "print(a)\n",
    "print(a.resize(6,2)) # None"
   ]
  },
  {
   "cell_type": "code",
   "execution_count": 27,
   "id": "756421d7",
   "metadata": {},
   "outputs": [
    {
     "name": "stdout",
     "output_type": "stream",
     "text": [
      "[[3 4]\n",
      " [5 7]\n",
      " [9 2]]\n",
      "[3 4 5 7 9 2]\n",
      "[[3 4]\n",
      " [5 7]\n",
      " [9 2]]\n"
     ]
    }
   ],
   "source": [
    "a = np.random.randint(1,10,(3,2))\n",
    "print(a)\n",
    "print(a.ravel()) # 1차원으로 변경된 결과를 리턴한다.\n",
    "print(a)"
   ]
  },
  {
   "cell_type": "markdown",
   "id": "370c2dd9",
   "metadata": {},
   "source": [
    "resize() 메소드로 배열의  shape과 크리를 변경할 수 있다 .   \n",
    "넘파이 배열.resize(new_shape), np.resize(넘파이 배열, new_shape)  \n",
    "resize() 메소드와 reshape() 메소드는 shape을 변경하는 부분에서는 유사하지만 reshape() 메소드는 배열을 구성하는 요소의 개수를 변경하지 못하는 반면에 resize() 메소드는 shape을 변경하는 과정중에서 배열을 구성하는 요소의 개수를 줄이거나 늘릴 수 있다 . "
   ]
  },
  {
   "cell_type": "code",
   "execution_count": 28,
   "id": "b2df4ede",
   "metadata": {},
   "outputs": [
    {
     "name": "stdout",
     "output_type": "stream",
     "text": [
      "[3 4 5 7 9 2]\n",
      "[  3   4   5   7 999   2]\n",
      "[[  3   4]\n",
      " [  5   7]\n",
      " [999   2]]\n"
     ]
    }
   ],
   "source": [
    "# ravel() 메소드는 원본 배열의 view를 반환한다.\n",
    "# ravel() 메소드가 반환한 배열을 수정하면 원본 배열의 내용이 같이 수정된다.\n",
    "b = a.ravel()\n",
    "print(b)\n",
    "b[4] = 999\n",
    "print(b)\n",
    "print(a)"
   ]
  },
  {
   "cell_type": "code",
   "execution_count": 29,
   "id": "fa620427",
   "metadata": {},
   "outputs": [
    {
     "name": "stdout",
     "output_type": "stream",
     "text": [
      "[[8 5 5]\n",
      " [9 6 6]]\n",
      "[[[8]\n",
      "  [5]]\n",
      "\n",
      " [[5]\n",
      "  [9]]\n",
      "\n",
      " [[6]\n",
      "  [6]]]\n",
      "[[[999]\n",
      "  [  5]]\n",
      "\n",
      " [[  5]\n",
      "  [  9]]\n",
      "\n",
      " [[  6]\n",
      "  [  6]]]\n",
      "[[999   5   5]\n",
      " [  9   6   6]]\n"
     ]
    }
   ],
   "source": [
    "# reshape() 메소드는 원본 배열의 view를 반환한다.\n",
    "# reshape() 메소드가 반환한 배열을 수정하면 원본 배열의 내용이 같이 수정된다.\n",
    "a = np.random.randint(1,10,(2,3))\n",
    "print(a)\n",
    "b = a.reshape(3,2,1)\n",
    "print(b)\n",
    "b[0][0][0] = 999\n",
    "print(b)\n",
    "print(a)"
   ]
  },
  {
   "cell_type": "code",
   "execution_count": 30,
   "id": "53ebad21",
   "metadata": {},
   "outputs": [
    {
     "name": "stdout",
     "output_type": "stream",
     "text": [
      "[[3 8 5 2 7 8]\n",
      " [1 5 7 2 4 6]]\n",
      "[[3 8 5 2 7 8 1 5 7 2]\n",
      " [4 6 0 0 0 0 0 0 0 0]]\n",
      "[[3 8 5 2]\n",
      " [7 8 1 5]]\n"
     ]
    }
   ],
   "source": [
    "# 요소의 크기가 변경되는 resize() 메소드 \n",
    "a = np.random.randint(1,10,(2,6))\n",
    "print(a)\n",
    "# a. reshape(2,10) # reshape() 메소드는 원본과 요소의 개수를 다르게 지정하면 에러가 발생한다 . \n",
    "a.resize(2,10) # 배열 요소의 개수가 12개에서 20개로 늘어나고 늘어난 요소에는 0이 채워진다.\n",
    "print(a)\n",
    "a.resize(2,4) # 배열 요소의 개수가 20 개에서 8개로 줄어들고 줄어든 요소의 데이터는 분실된다.\n",
    "print(a)"
   ]
  },
  {
   "cell_type": "code",
   "execution_count": 31,
   "id": "1e6eb24f",
   "metadata": {},
   "outputs": [
    {
     "name": "stdout",
     "output_type": "stream",
     "text": [
      "[[3 6 1 2 6 9]\n",
      " [1 1 7 6 5 8]]\n",
      "[[3 6 1 2 6 9 1 1 7 6]\n",
      " [5 8 3 6 1 2 6 9 1 1]]\n",
      "[[3 6 1 2]\n",
      " [6 9 1 1]]\n"
     ]
    }
   ],
   "source": [
    "a= np.random.randint(1,10,(2,6))\n",
    "print(a)\n",
    "a = np.resize(a,(2,10)) # 배열 요소의 개수가 12개에서 20개로 늘어나고 늘어난 요소에는 원본 배열 데이터가 반복되서 채워진다 . \n",
    "print(a)\n",
    "a = np.resize(a,(2,4)) # a.resize(2,4)와 같이 줄어든 요소의 데이터는 분실된다.\n",
    "print(a)"
   ]
  },
  {
   "cell_type": "markdown",
   "id": "897ad0c9",
   "metadata": {},
   "source": [
    "append() 메소드는 배열 끝에 데이터(배열)를 추가한다. axis로 데이터가 추가되는 방향을 지정할 수 있다.  \n",
    "np.append(넘파이 배열, 추가할 넘파이 배열, axis)\n"
   ]
  },
  {
   "cell_type": "code",
   "execution_count": 32,
   "id": "d0fe8bac",
   "metadata": {},
   "outputs": [
    {
     "name": "stdout",
     "output_type": "stream",
     "text": [
      "[[3 2 8]\n",
      " [7 7 1]\n",
      " [1 2 8]]\n",
      "[[11 18 14]\n",
      " [18 17 13]\n",
      " [14 11 11]]\n"
     ]
    }
   ],
   "source": [
    "a = np.random.randint(1,10,(3,3))\n",
    "print(a)\n",
    "b = np.random.randint(10,19,(3,3))\n",
    "print(b)"
   ]
  },
  {
   "cell_type": "code",
   "execution_count": 33,
   "id": "8defe1dc",
   "metadata": {},
   "outputs": [
    {
     "name": "stdout",
     "output_type": "stream",
     "text": [
      "[ 3  2  8  7  7  1  1  2  8 11 18 14 18 17 13 14 11 11]\n",
      "[ 3  2  8  7  7  1  1  2  8 11 18 14 18 17 13 14 11 11]\n",
      "[ 3  2  8  7  7  1  1  2  8 11 18 14 18 17 13 14 11 11]\n"
     ]
    }
   ],
   "source": [
    "# axis=None\n",
    "# axis를 지정하지 않았을 경우 배열은 1차원으로 변환되서 결합된다. \n",
    "print(np.append(a,b))\n",
    "result = np.append(a,b)\n",
    "print(result)\n",
    "result = np.append(a,b , axis =None)\n",
    "print(result)"
   ]
  },
  {
   "cell_type": "code",
   "execution_count": 34,
   "id": "ccfb70d1",
   "metadata": {},
   "outputs": [
    {
     "name": "stdout",
     "output_type": "stream",
     "text": [
      "[[ 3  2  8]\n",
      " [ 7  7  1]\n",
      " [ 1  2  8]\n",
      " [11 18 14]\n",
      " [18 17 13]\n",
      " [14 11 11]]\n"
     ]
    }
   ],
   "source": [
    "# axis = 0\n",
    "print(np.append(a,b,axis=0)) # a 배열 아래쪽(열방향)에 b 배열이 추가된다."
   ]
  },
  {
   "cell_type": "code",
   "execution_count": 35,
   "id": "d50c1e7e",
   "metadata": {},
   "outputs": [
    {
     "name": "stdout",
     "output_type": "stream",
     "text": [
      "[[13 11 17]\n",
      " [10 11 18]\n",
      " [13 16 11]\n",
      " [11 15 17]]\n",
      "[[ 3  2  8]\n",
      " [ 7  7  1]\n",
      " [ 1  2  8]\n",
      " [13 11 17]\n",
      " [10 11 18]\n",
      " [13 16 11]\n",
      " [11 15 17]]\n"
     ]
    }
   ],
   "source": [
    "# axis=0 인 경우 두 배열이 행의 개수는 달라도 상관이없지만 열의 개수는 반드시 같아야 한다.\n",
    "diff_shape = np.random.randint(10,19,(4,3)) #a 배열과 열의 개수는 같지만 행의 개수가 다른 배열\n",
    "print(diff_shape)\n",
    "print(np.append(a, diff_shape, axis=0))\n",
    "\n",
    "#diff_shape = np.random.randint(10,19,(3,4)) # a 배열과 행의 개수는 같지만 열의 개수가 다른 배열\n",
    "#print(diff_shape)\n",
    "#print(np.append(a,diff_shape,axis=0)) # 추가하려는 배열 diff_shape과 원본 배열 a의 열의 개수가 달라서 에러가 발생된다."
   ]
  },
  {
   "cell_type": "code",
   "execution_count": 36,
   "id": "3fe9fccf",
   "metadata": {},
   "outputs": [
    {
     "name": "stdout",
     "output_type": "stream",
     "text": [
      "[[ 3  2  8 11 18 14]\n",
      " [ 7  7  1 18 17 13]\n",
      " [ 1  2  8 14 11 11]]\n"
     ]
    }
   ],
   "source": [
    "# axis = 1\n",
    "print(np.append(a,b,axis=1)) # a 배열 오른쪽(행방향)에 b 배열이 추가된다."
   ]
  },
  {
   "cell_type": "code",
   "execution_count": 37,
   "id": "97c33568",
   "metadata": {},
   "outputs": [
    {
     "name": "stdout",
     "output_type": "stream",
     "text": [
      "[[17 10 16 11]\n",
      " [18 11 12 13]\n",
      " [16 11 14 14]]\n",
      "[[ 3  2  8 17 10 16 11]\n",
      " [ 7  7  1 18 11 12 13]\n",
      " [ 1  2  8 16 11 14 14]]\n"
     ]
    }
   ],
   "source": [
    "# axis=1 인 경우 두 배열의 열의 개수는 달라도 상관없지만 행의 개수는 반드시 같아야한다.\n",
    "#diff_shape = np.random.randint(10,19,(4,3)) #a 배열과 열의 개수는 같지만 행의 개수가 다른 배열\n",
    "#print(diff_shape)\n",
    "#print(np.append(a, diff_shape, axis=1)) # 추가하려는 배열 diff_shape과 원본 배열 a의 행의 개수가 달라서 에러가 발생된다.\n",
    "\n",
    "diff_shape = np.random.randint(10,19,(3,4)) # a 배열과 행의 개수는 같지만 열의 개수가 다른 배열\n",
    "print(diff_shape)\n",
    "print(np.append(a,diff_shape,axis=1)) "
   ]
  },
  {
   "cell_type": "markdown",
   "id": "f69d51e6",
   "metadata": {},
   "source": [
    "insert() 메소드는 지정한 index에 데이터를 삽입한다. axis로 데이터가 삽입되는 방향을 지정할수 있다 .  \n",
    "np.insert(넘파이 배열, 삽입할 index ,삽입할 데이터, axis)"
   ]
  },
  {
   "cell_type": "code",
   "execution_count": 38,
   "id": "4214efc7",
   "metadata": {},
   "outputs": [
    {
     "name": "stdout",
     "output_type": "stream",
     "text": [
      "[[5 4 7]\n",
      " [6 6 5]\n",
      " [3 8 2]]\n"
     ]
    }
   ],
   "source": [
    "a = np.random.randint(1, 10,(3,3))\n",
    "print(a)"
   ]
  },
  {
   "cell_type": "code",
   "execution_count": 39,
   "id": "260c05e2",
   "metadata": {},
   "outputs": [
    {
     "name": "stdout",
     "output_type": "stream",
     "text": [
      "[    5 99999     4     7     6     6     5     3     8     2]\n",
      "[    5 99999     4     7     6     6     5     3     8     2]\n"
     ]
    }
   ],
   "source": [
    "# axis 를 지정하지 않으면 None이 기본값이고 배열을 1차원으로 변환한 후 지정된 index에 데이터를 삽입한다.\n",
    "print(np.insert(a, 1, 99999))\n",
    "print(np.insert(a, 1, 99999,axis=None))"
   ]
  },
  {
   "cell_type": "code",
   "execution_count": 40,
   "id": "c96024e9",
   "metadata": {},
   "outputs": [
    {
     "name": "stdout",
     "output_type": "stream",
     "text": [
      "[[    5     4     7]\n",
      " [99999 99999 99999]\n",
      " [    6     6     5]\n",
      " [    3     8     2]]\n"
     ]
    }
   ],
   "source": [
    "# axis=0으로 지정하면 각 열의 열 방향 index에 데이터를 삽입한다.\n",
    "print(np.insert(a,1,99999,axis=0))"
   ]
  },
  {
   "cell_type": "code",
   "execution_count": 41,
   "id": "c36869e8",
   "metadata": {
    "scrolled": true
   },
   "outputs": [
    {
     "name": "stdout",
     "output_type": "stream",
     "text": [
      "[[    5 99999     4     7]\n",
      " [    6 99999     6     5]\n",
      " [    3 99999     8     2]]\n"
     ]
    }
   ],
   "source": [
    "# axis=1으로 지정하면 각 행의 행 방향 index에 데이터를 삽입한다.\n",
    "print(np.insert(a,1,99999,axis=1))"
   ]
  },
  {
   "cell_type": "markdown",
   "id": "ed7dce76",
   "metadata": {},
   "source": [
    "delete() 메소드는 지정한 index의 데이터를 삭제한다. axis로 데이터가 삭제되는 방향을 지정할 수 있다 .  \n",
    "np.delete(넘파이 배열, 삭제할 index, axis)"
   ]
  },
  {
   "cell_type": "code",
   "execution_count": 42,
   "id": "9dd5e9fb",
   "metadata": {},
   "outputs": [
    {
     "name": "stdout",
     "output_type": "stream",
     "text": [
      "[[8 7 8]\n",
      " [4 9 9]\n",
      " [3 2 9]]\n"
     ]
    }
   ],
   "source": [
    "a = np.random.randint(1, 10,(3,3))\n",
    "print(a)"
   ]
  },
  {
   "cell_type": "code",
   "execution_count": 43,
   "id": "a1e53b23",
   "metadata": {},
   "outputs": [
    {
     "name": "stdout",
     "output_type": "stream",
     "text": [
      "[8 8 4 9 9 3 2 9]\n",
      "[8 8 4 9 9 3 2 9]\n"
     ]
    }
   ],
   "source": [
    "# axis 를 지정하지 않으면 None이 기본값이고 배열을 1차원으로 변환한 후 지정된 index의 데이터를 삭제한다.\n",
    "print(np.delete(a, 1))\n",
    "print(np.delete(a, 1,axis=None))"
   ]
  },
  {
   "cell_type": "code",
   "execution_count": 44,
   "id": "cede757c",
   "metadata": {},
   "outputs": [
    {
     "name": "stdout",
     "output_type": "stream",
     "text": [
      "[[8 7 8]\n",
      " [3 2 9]]\n"
     ]
    }
   ],
   "source": [
    "# axis=0으로 지정하면 각 열의 열 방향 index의 데이터를 삭제한다.\n",
    "print(np.delete(a,1,axis=0))"
   ]
  },
  {
   "cell_type": "code",
   "execution_count": 45,
   "id": "687ab11c",
   "metadata": {},
   "outputs": [
    {
     "name": "stdout",
     "output_type": "stream",
     "text": [
      "[[8 8]\n",
      " [4 9]\n",
      " [3 9]]\n"
     ]
    }
   ],
   "source": [
    "# axis=1으로 지정하면 각 행의 행 방향  index의 데이터를 삭제한다.\n",
    "print(np.delete(a,1,axis=1))"
   ]
  },
  {
   "cell_type": "markdown",
   "id": "3977f4b6",
   "metadata": {},
   "source": [
    "배열 결합  \n",
    "\n",
    "numpy는 배열과 배열을 결합하는 concatenate(), vstack(), hstack() 메소드를 제공한다.\n",
    "\n",
    "concatenate() 메소드는 axis 로 결합할 방향을 지정해서 배열을 결합한다.   \n",
    "np.concatenate((배열1, 배열2, ..... ), axis)  \n"
   ]
  },
  {
   "cell_type": "code",
   "execution_count": 46,
   "id": "e1aa5832",
   "metadata": {},
   "outputs": [
    {
     "name": "stdout",
     "output_type": "stream",
     "text": [
      "[[3 8 9]\n",
      " [6 8 5]]\n",
      "[[15 14 17]\n",
      " [17 15 12]]\n"
     ]
    }
   ],
   "source": [
    "a = np.random.randint(1,10,(2,3))\n",
    "print(a)\n",
    "b = np.random.randint(10,19,(2,3))\n",
    "print(b)"
   ]
  },
  {
   "cell_type": "code",
   "execution_count": 47,
   "id": "532da60a",
   "metadata": {},
   "outputs": [
    {
     "name": "stdout",
     "output_type": "stream",
     "text": [
      "[ 3  8  9  6  8  5 15 14 17 17 15 12]\n"
     ]
    }
   ],
   "source": [
    "# axis 를 None으로 지정하면 1차원 배열로 변환한 후 배열을 결합한다.\n",
    "print(np.concatenate((a,b),axis=None))"
   ]
  },
  {
   "cell_type": "code",
   "execution_count": 48,
   "id": "cea93208",
   "metadata": {},
   "outputs": [
    {
     "name": "stdout",
     "output_type": "stream",
     "text": [
      "[[ 3  8  9]\n",
      " [ 6  8  5]\n",
      " [15 14 17]\n",
      " [17 15 12]]\n",
      "================================================================================\n",
      "[[ 3  8  9]\n",
      " [ 6  8  5]\n",
      " [15 14 17]\n",
      " [17 15 12]]\n",
      "================================================================================\n",
      "[[ 3  8  9]\n",
      " [ 6  8  5]\n",
      " [15 14 17]\n",
      " [17 15 12]]\n"
     ]
    }
   ],
   "source": [
    "# axis를 지정하지 않으면 0이 기본값이고 아래쪽으로 배열을 결합한다. 결합하려는 배열들의 열의 개수가 다르면 에러가 발생된다.\n",
    "print(np.concatenate((a,b)))\n",
    "print('='*80)\n",
    "print(np.concatenate((a,b),axis=0))\n",
    "print('='*80)\n",
    "print(np.concatenate([a,b],axis=0))\n"
   ]
  },
  {
   "cell_type": "code",
   "execution_count": 49,
   "id": "f9b6cfba",
   "metadata": {},
   "outputs": [
    {
     "name": "stdout",
     "output_type": "stream",
     "text": [
      "[[ 3  8  9 15 14 17]\n",
      " [ 6  8  5 17 15 12]]\n"
     ]
    }
   ],
   "source": [
    "#  axis를 1로 지정하면 오른쪽으로 배열을 결합한다. 결합하려는 배열들의 행의 개수가 다르면 에러가 발생된다. \n",
    "print(np.concatenate((a,b),axis= 1))"
   ]
  },
  {
   "cell_type": "markdown",
   "id": "340711b4",
   "metadata": {},
   "source": [
    "vstack() 메소드는 인수로 지정된 배열을 수직 방향(axis=0) 으로 결합한다.  \n",
    "np.concatenate((배열1, 배열2, ...), axis=0)와 동일한 기능을 실행한다.  \n",
    "np.vstack((배열1, 배열2, ...))  "
   ]
  },
  {
   "cell_type": "code",
   "execution_count": 50,
   "id": "610eb48e",
   "metadata": {},
   "outputs": [
    {
     "name": "stdout",
     "output_type": "stream",
     "text": [
      "[[6 4 3]\n",
      " [7 7 6]]\n",
      "[[16 12 17]\n",
      " [16 16 12]]\n"
     ]
    }
   ],
   "source": [
    "a = np.random.randint(1,10,(2,3))\n",
    "print(a)\n",
    "b = np.random.randint(10,19,(2,3))\n",
    "print(b)"
   ]
  },
  {
   "cell_type": "code",
   "execution_count": 51,
   "id": "fa9fc57e",
   "metadata": {},
   "outputs": [
    {
     "name": "stdout",
     "output_type": "stream",
     "text": [
      "[[ 6  4  3]\n",
      " [ 7  7  6]\n",
      " [16 12 17]\n",
      " [16 16 12]]\n"
     ]
    }
   ],
   "source": [
    "print(np.vstack((a,b))) # 결합할 배열들의 열의 개수가 다르면 에러가 발생된다."
   ]
  },
  {
   "cell_type": "markdown",
   "id": "87656a98",
   "metadata": {},
   "source": [
    "hstack() 메소드는 인수로 지정된 배열을 수평 방향(axis=1) 으로 결합한다.  \n",
    "np.concatenate((배열1, 배열2, ...), axis=1)와 동일한 기능을 실행한다.  \n",
    "np.hstack((배열1, 배열2, ...))"
   ]
  },
  {
   "cell_type": "code",
   "execution_count": 52,
   "id": "b1e19613",
   "metadata": {},
   "outputs": [
    {
     "name": "stdout",
     "output_type": "stream",
     "text": [
      "[[ 6  4  3 16 12 17]\n",
      " [ 7  7  6 16 16 12]]\n"
     ]
    }
   ],
   "source": [
    "print(np.hstack((a,b))) # 결합할 배열들의 행의 개수가 다르면 에러가 발생된다."
   ]
  },
  {
   "cell_type": "markdown",
   "id": "292095ab",
   "metadata": {},
   "source": [
    "배열 분리  \n",
    "\n",
    "numpy는 배열을 수직(열) 방향으로 분할하는 hsplit() 메소드와 수평(행) 방향으로 분할하는 hsplit() 메소드를 제공한다."
   ]
  },
  {
   "cell_type": "code",
   "execution_count": 53,
   "id": "d072d19d",
   "metadata": {},
   "outputs": [
    {
     "name": "stdout",
     "output_type": "stream",
     "text": [
      "[[ 1  2  3  4  5  6]\n",
      " [ 7  8  9 10 11 12]\n",
      " [13 14 15 16 17 18]\n",
      " [19 20 21 22 23 24]]\n"
     ]
    }
   ],
   "source": [
    "a = np.arange(1,25).reshape(4,6)\n",
    "print(a)"
   ]
  },
  {
   "cell_type": "markdown",
   "id": "9a7d8517",
   "metadata": {},
   "source": [
    "hsplit() 메소드로 배열을 수평 방향으로 분할한다.  \n",
    "np.hsplit(넘파이 배열, 분할할 개수)"
   ]
  },
  {
   "cell_type": "code",
   "execution_count": 54,
   "id": "2db74bdb",
   "metadata": {},
   "outputs": [
    {
     "name": "stdout",
     "output_type": "stream",
     "text": [
      "<class 'list'>\n",
      "[array([[ 1,  2,  3],\n",
      "       [ 7,  8,  9],\n",
      "       [13, 14, 15],\n",
      "       [19, 20, 21]]), array([[ 4,  5,  6],\n",
      "       [10, 11, 12],\n",
      "       [16, 17, 18],\n",
      "       [22, 23, 24]])]\n",
      "<class 'numpy.ndarray'>\n",
      "[[ 1  2  3]\n",
      " [ 7  8  9]\n",
      " [13 14 15]\n",
      " [19 20 21]]\n",
      "[[ 4  5  6]\n",
      " [10 11 12]\n",
      " [16 17 18]\n",
      " [22 23 24]]\n"
     ]
    }
   ],
   "source": [
    "result = np.hsplit(a,2) # 함수의 실행 결과 리턴값은 numpy 배열이 저장된 파이썬 list 형태이다.\n",
    "print(type(result))\n",
    "print(result)\n",
    "print(type(result[0]))\n",
    "print(result[0])\n",
    "print(result[1])"
   ]
  },
  {
   "cell_type": "markdown",
   "id": "14ba361c",
   "metadata": {},
   "source": [
    "<img src=\"./images/numpyImage09.jpg\" align=\"left\" width=\"800\">"
   ]
  },
  {
   "cell_type": "code",
   "execution_count": 55,
   "id": "b1d6b66e",
   "metadata": {},
   "outputs": [
    {
     "name": "stdout",
     "output_type": "stream",
     "text": [
      "[array([[ 1,  2],\n",
      "       [ 7,  8],\n",
      "       [13, 14],\n",
      "       [19, 20]]), array([[ 3,  4],\n",
      "       [ 9, 10],\n",
      "       [15, 16],\n",
      "       [21, 22]]), array([[ 5,  6],\n",
      "       [11, 12],\n",
      "       [17, 18],\n",
      "       [23, 24]])]\n"
     ]
    }
   ],
   "source": [
    "result = np.hsplit(a,3)\n",
    "print(result)"
   ]
  },
  {
   "cell_type": "markdown",
   "id": "7a1bf4dd",
   "metadata": {},
   "source": [
    "<img src=\"./images/numpyImage10.jpg\" align=\"left\" width=\"800\">"
   ]
  },
  {
   "cell_type": "code",
   "execution_count": 56,
   "id": "423c759c",
   "metadata": {},
   "outputs": [
    {
     "name": "stdout",
     "output_type": "stream",
     "text": [
      "[array([[ 1],\n",
      "       [ 7],\n",
      "       [13],\n",
      "       [19]]), array([[ 2],\n",
      "       [ 8],\n",
      "       [14],\n",
      "       [20]]), array([[ 3],\n",
      "       [ 9],\n",
      "       [15],\n",
      "       [21]]), array([[ 4],\n",
      "       [10],\n",
      "       [16],\n",
      "       [22]]), array([[ 5],\n",
      "       [11],\n",
      "       [17],\n",
      "       [23]]), array([[ 6],\n",
      "       [12],\n",
      "       [18],\n",
      "       [24]])]\n"
     ]
    }
   ],
   "source": [
    "result = np.hsplit(a,6)\n",
    "print(result)"
   ]
  },
  {
   "cell_type": "markdown",
   "id": "890d65e6",
   "metadata": {},
   "source": [
    "<img src=\"./images/numpyImage11.jpg\" align=\"left\" width=\"800\">"
   ]
  },
  {
   "cell_type": "code",
   "execution_count": 57,
   "id": "febf2272",
   "metadata": {},
   "outputs": [
    {
     "name": "stdout",
     "output_type": "stream",
     "text": [
      "[array([[ 1],\n",
      "       [ 7],\n",
      "       [13],\n",
      "       [19]]), array([[ 2,  3],\n",
      "       [ 8,  9],\n",
      "       [14, 15],\n",
      "       [20, 21]]), array([[ 4,  5],\n",
      "       [10, 11],\n",
      "       [16, 17],\n",
      "       [22, 23]]), array([[ 6],\n",
      "       [12],\n",
      "       [18],\n",
      "       [24]])]\n"
     ]
    }
   ],
   "source": [
    "result = np.hsplit(a,[1,3,5])\n",
    "print(result)"
   ]
  },
  {
   "cell_type": "markdown",
   "id": "997d134a",
   "metadata": {},
   "source": [
    "vsplit() 메소드로 배열을 수직 방향으로 분할한다. np.vsplit(넘파이 배열, 분할할 개수 "
   ]
  },
  {
   "cell_type": "code",
   "execution_count": 58,
   "id": "9f40b8a6",
   "metadata": {},
   "outputs": [
    {
     "name": "stdout",
     "output_type": "stream",
     "text": [
      "[array([[ 1,  2,  3,  4,  5,  6],\n",
      "       [ 7,  8,  9, 10, 11, 12]]), array([[13, 14, 15, 16, 17, 18],\n",
      "       [19, 20, 21, 22, 23, 24]])]\n"
     ]
    }
   ],
   "source": [
    "result = np.vsplit(a,2)\n",
    "print(result)"
   ]
  },
  {
   "cell_type": "markdown",
   "id": "30706342",
   "metadata": {},
   "source": [
    "<img src=\"./images/numpyImage12.jpg\" align=\"left\" width=\"800\">"
   ]
  },
  {
   "cell_type": "code",
   "execution_count": 59,
   "id": "dc4f73aa",
   "metadata": {},
   "outputs": [
    {
     "name": "stdout",
     "output_type": "stream",
     "text": [
      "[array([[1, 2, 3, 4, 5, 6]]), array([[ 7,  8,  9, 10, 11, 12]]), array([[13, 14, 15, 16, 17, 18]]), array([[19, 20, 21, 22, 23, 24]])]\n"
     ]
    }
   ],
   "source": [
    "result = np.vsplit(a,4)\n",
    "print(result)"
   ]
  },
  {
   "cell_type": "markdown",
   "id": "a7fc3a9e",
   "metadata": {},
   "source": [
    "<img src=\"./images/numpyImage13.jpg\" align=\"left\" width=\"800\">"
   ]
  },
  {
   "cell_type": "code",
   "execution_count": 60,
   "id": "d0c85b85",
   "metadata": {},
   "outputs": [
    {
     "name": "stdout",
     "output_type": "stream",
     "text": [
      "[array([[1, 2, 3, 4, 5, 6]]), array([[ 7,  8,  9, 10, 11, 12],\n",
      "       [13, 14, 15, 16, 17, 18]]), array([[19, 20, 21, 22, 23, 24]])]\n"
     ]
    }
   ],
   "source": [
    "result = np.vsplit(a,[1,3])\n",
    "print(result)"
   ]
  },
  {
   "cell_type": "markdown",
   "id": "3157e99b",
   "metadata": {},
   "source": [
    "<img src=\"./images/numpyImage14.jpg\" align=\"left\" width=\"800\">"
   ]
  }
 ],
 "metadata": {
  "kernelspec": {
   "display_name": "Python 3",
   "language": "python",
   "name": "python3"
  },
  "language_info": {
   "codemirror_mode": {
    "name": "ipython",
    "version": 3
   },
   "file_extension": ".py",
   "mimetype": "text/x-python",
   "name": "python",
   "nbconvert_exporter": "python",
   "pygments_lexer": "ipython3",
   "version": "3.6.8"
  }
 },
 "nbformat": 4,
 "nbformat_minor": 5
}
